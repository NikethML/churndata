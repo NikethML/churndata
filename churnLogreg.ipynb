{
  "nbformat": 4,
  "nbformat_minor": 0,
  "metadata": {
    "colab": {
      "provenance": [],
      "authorship_tag": "ABX9TyPj6BsBMFRQBxwLP7dfVfiT",
      "include_colab_link": true
    },
    "kernelspec": {
      "name": "python3",
      "display_name": "Python 3"
    },
    "language_info": {
      "name": "python"
    }
  },
  "cells": [
    {
      "cell_type": "markdown",
      "metadata": {
        "id": "view-in-github",
        "colab_type": "text"
      },
      "source": [
        "<a href=\"https://colab.research.google.com/github/NikethML/churndata/blob/main/churnLogreg.ipynb\" target=\"_parent\"><img src=\"https://colab.research.google.com/assets/colab-badge.svg\" alt=\"Open In Colab\"/></a>"
      ]
    },
    {
      "cell_type": "code",
      "execution_count": 33,
      "metadata": {
        "id": "SZBVGbwoKPpT"
      },
      "outputs": [],
      "source": [
        "#Package imports needed\n",
        "import pandas as pd\n",
        "import numpy as np\n",
        "import matplotlib.pyplot as plt\n",
        "from sklearn.linear_model import LogisticRegression\n",
        "import statsmodels.api as sm\n",
        "import seaborn as sns\n",
        "from scipy import stats\n",
        "import scipy\n"
      ]
    },
    {
      "cell_type": "code",
      "source": [
        "url='https://raw.githubusercontent.com/NikethML/churndata/main/ChurnData%20(7).csv'\n",
        "df= pd.read_csv(url)\n",
        "\n"
      ],
      "metadata": {
        "id": "WEf99NJHKUoM"
      },
      "execution_count": 7,
      "outputs": []
    },
    {
      "cell_type": "code",
      "source": [
        "df.head()\n"
      ],
      "metadata": {
        "colab": {
          "base_uri": "https://localhost:8080/",
          "height": 279
        },
        "id": "c9FQ9LyMKXMc",
        "outputId": "58a3eb77-293a-4d3e-a461-cd9c8ca81324"
      },
      "execution_count": 8,
      "outputs": [
        {
          "output_type": "execute_result",
          "data": {
            "text/plain": [
              "   tenure   age  address  income   ed  employ  equip  callcard  wireless  \\\n",
              "0    11.0  33.0      7.0   136.0  5.0     5.0    0.0       1.0       1.0   \n",
              "1    33.0  33.0     12.0    33.0  2.0     0.0    0.0       0.0       0.0   \n",
              "2    23.0  30.0      9.0    30.0  1.0     2.0    0.0       0.0       0.0   \n",
              "3    38.0  35.0      5.0    76.0  2.0    10.0    1.0       1.0       1.0   \n",
              "4     7.0  35.0     14.0    80.0  2.0    15.0    0.0       1.0       0.0   \n",
              "\n",
              "   longmon  ...  pager  internet  callwait  confer  ebill  loglong  logtoll  \\\n",
              "0     4.40  ...    1.0       0.0       1.0     1.0    0.0    1.482    3.033   \n",
              "1     9.45  ...    0.0       0.0       0.0     0.0    0.0    2.246    3.240   \n",
              "2     6.30  ...    0.0       0.0       0.0     1.0    0.0    1.841    3.240   \n",
              "3     6.05  ...    1.0       1.0       1.0     1.0    1.0    1.800    3.807   \n",
              "4     7.10  ...    0.0       0.0       1.0     1.0    0.0    1.960    3.091   \n",
              "\n",
              "   lninc  custcat  churn  \n",
              "0  4.913      4.0    1.0  \n",
              "1  3.497      1.0    1.0  \n",
              "2  3.401      3.0    0.0  \n",
              "3  4.331      4.0    0.0  \n",
              "4  4.382      3.0    0.0  \n",
              "\n",
              "[5 rows x 28 columns]"
            ],
            "text/html": [
              "\n",
              "  <div id=\"df-c2fb0563-a3d3-4360-b6d5-ac7ce551dcf4\">\n",
              "    <div class=\"colab-df-container\">\n",
              "      <div>\n",
              "<style scoped>\n",
              "    .dataframe tbody tr th:only-of-type {\n",
              "        vertical-align: middle;\n",
              "    }\n",
              "\n",
              "    .dataframe tbody tr th {\n",
              "        vertical-align: top;\n",
              "    }\n",
              "\n",
              "    .dataframe thead th {\n",
              "        text-align: right;\n",
              "    }\n",
              "</style>\n",
              "<table border=\"1\" class=\"dataframe\">\n",
              "  <thead>\n",
              "    <tr style=\"text-align: right;\">\n",
              "      <th></th>\n",
              "      <th>tenure</th>\n",
              "      <th>age</th>\n",
              "      <th>address</th>\n",
              "      <th>income</th>\n",
              "      <th>ed</th>\n",
              "      <th>employ</th>\n",
              "      <th>equip</th>\n",
              "      <th>callcard</th>\n",
              "      <th>wireless</th>\n",
              "      <th>longmon</th>\n",
              "      <th>...</th>\n",
              "      <th>pager</th>\n",
              "      <th>internet</th>\n",
              "      <th>callwait</th>\n",
              "      <th>confer</th>\n",
              "      <th>ebill</th>\n",
              "      <th>loglong</th>\n",
              "      <th>logtoll</th>\n",
              "      <th>lninc</th>\n",
              "      <th>custcat</th>\n",
              "      <th>churn</th>\n",
              "    </tr>\n",
              "  </thead>\n",
              "  <tbody>\n",
              "    <tr>\n",
              "      <th>0</th>\n",
              "      <td>11.0</td>\n",
              "      <td>33.0</td>\n",
              "      <td>7.0</td>\n",
              "      <td>136.0</td>\n",
              "      <td>5.0</td>\n",
              "      <td>5.0</td>\n",
              "      <td>0.0</td>\n",
              "      <td>1.0</td>\n",
              "      <td>1.0</td>\n",
              "      <td>4.40</td>\n",
              "      <td>...</td>\n",
              "      <td>1.0</td>\n",
              "      <td>0.0</td>\n",
              "      <td>1.0</td>\n",
              "      <td>1.0</td>\n",
              "      <td>0.0</td>\n",
              "      <td>1.482</td>\n",
              "      <td>3.033</td>\n",
              "      <td>4.913</td>\n",
              "      <td>4.0</td>\n",
              "      <td>1.0</td>\n",
              "    </tr>\n",
              "    <tr>\n",
              "      <th>1</th>\n",
              "      <td>33.0</td>\n",
              "      <td>33.0</td>\n",
              "      <td>12.0</td>\n",
              "      <td>33.0</td>\n",
              "      <td>2.0</td>\n",
              "      <td>0.0</td>\n",
              "      <td>0.0</td>\n",
              "      <td>0.0</td>\n",
              "      <td>0.0</td>\n",
              "      <td>9.45</td>\n",
              "      <td>...</td>\n",
              "      <td>0.0</td>\n",
              "      <td>0.0</td>\n",
              "      <td>0.0</td>\n",
              "      <td>0.0</td>\n",
              "      <td>0.0</td>\n",
              "      <td>2.246</td>\n",
              "      <td>3.240</td>\n",
              "      <td>3.497</td>\n",
              "      <td>1.0</td>\n",
              "      <td>1.0</td>\n",
              "    </tr>\n",
              "    <tr>\n",
              "      <th>2</th>\n",
              "      <td>23.0</td>\n",
              "      <td>30.0</td>\n",
              "      <td>9.0</td>\n",
              "      <td>30.0</td>\n",
              "      <td>1.0</td>\n",
              "      <td>2.0</td>\n",
              "      <td>0.0</td>\n",
              "      <td>0.0</td>\n",
              "      <td>0.0</td>\n",
              "      <td>6.30</td>\n",
              "      <td>...</td>\n",
              "      <td>0.0</td>\n",
              "      <td>0.0</td>\n",
              "      <td>0.0</td>\n",
              "      <td>1.0</td>\n",
              "      <td>0.0</td>\n",
              "      <td>1.841</td>\n",
              "      <td>3.240</td>\n",
              "      <td>3.401</td>\n",
              "      <td>3.0</td>\n",
              "      <td>0.0</td>\n",
              "    </tr>\n",
              "    <tr>\n",
              "      <th>3</th>\n",
              "      <td>38.0</td>\n",
              "      <td>35.0</td>\n",
              "      <td>5.0</td>\n",
              "      <td>76.0</td>\n",
              "      <td>2.0</td>\n",
              "      <td>10.0</td>\n",
              "      <td>1.0</td>\n",
              "      <td>1.0</td>\n",
              "      <td>1.0</td>\n",
              "      <td>6.05</td>\n",
              "      <td>...</td>\n",
              "      <td>1.0</td>\n",
              "      <td>1.0</td>\n",
              "      <td>1.0</td>\n",
              "      <td>1.0</td>\n",
              "      <td>1.0</td>\n",
              "      <td>1.800</td>\n",
              "      <td>3.807</td>\n",
              "      <td>4.331</td>\n",
              "      <td>4.0</td>\n",
              "      <td>0.0</td>\n",
              "    </tr>\n",
              "    <tr>\n",
              "      <th>4</th>\n",
              "      <td>7.0</td>\n",
              "      <td>35.0</td>\n",
              "      <td>14.0</td>\n",
              "      <td>80.0</td>\n",
              "      <td>2.0</td>\n",
              "      <td>15.0</td>\n",
              "      <td>0.0</td>\n",
              "      <td>1.0</td>\n",
              "      <td>0.0</td>\n",
              "      <td>7.10</td>\n",
              "      <td>...</td>\n",
              "      <td>0.0</td>\n",
              "      <td>0.0</td>\n",
              "      <td>1.0</td>\n",
              "      <td>1.0</td>\n",
              "      <td>0.0</td>\n",
              "      <td>1.960</td>\n",
              "      <td>3.091</td>\n",
              "      <td>4.382</td>\n",
              "      <td>3.0</td>\n",
              "      <td>0.0</td>\n",
              "    </tr>\n",
              "  </tbody>\n",
              "</table>\n",
              "<p>5 rows × 28 columns</p>\n",
              "</div>\n",
              "      <button class=\"colab-df-convert\" onclick=\"convertToInteractive('df-c2fb0563-a3d3-4360-b6d5-ac7ce551dcf4')\"\n",
              "              title=\"Convert this dataframe to an interactive table.\"\n",
              "              style=\"display:none;\">\n",
              "        \n",
              "  <svg xmlns=\"http://www.w3.org/2000/svg\" height=\"24px\"viewBox=\"0 0 24 24\"\n",
              "       width=\"24px\">\n",
              "    <path d=\"M0 0h24v24H0V0z\" fill=\"none\"/>\n",
              "    <path d=\"M18.56 5.44l.94 2.06.94-2.06 2.06-.94-2.06-.94-.94-2.06-.94 2.06-2.06.94zm-11 1L8.5 8.5l.94-2.06 2.06-.94-2.06-.94L8.5 2.5l-.94 2.06-2.06.94zm10 10l.94 2.06.94-2.06 2.06-.94-2.06-.94-.94-2.06-.94 2.06-2.06.94z\"/><path d=\"M17.41 7.96l-1.37-1.37c-.4-.4-.92-.59-1.43-.59-.52 0-1.04.2-1.43.59L10.3 9.45l-7.72 7.72c-.78.78-.78 2.05 0 2.83L4 21.41c.39.39.9.59 1.41.59.51 0 1.02-.2 1.41-.59l7.78-7.78 2.81-2.81c.8-.78.8-2.07 0-2.86zM5.41 20L4 18.59l7.72-7.72 1.47 1.35L5.41 20z\"/>\n",
              "  </svg>\n",
              "      </button>\n",
              "      \n",
              "  <style>\n",
              "    .colab-df-container {\n",
              "      display:flex;\n",
              "      flex-wrap:wrap;\n",
              "      gap: 12px;\n",
              "    }\n",
              "\n",
              "    .colab-df-convert {\n",
              "      background-color: #E8F0FE;\n",
              "      border: none;\n",
              "      border-radius: 50%;\n",
              "      cursor: pointer;\n",
              "      display: none;\n",
              "      fill: #1967D2;\n",
              "      height: 32px;\n",
              "      padding: 0 0 0 0;\n",
              "      width: 32px;\n",
              "    }\n",
              "\n",
              "    .colab-df-convert:hover {\n",
              "      background-color: #E2EBFA;\n",
              "      box-shadow: 0px 1px 2px rgba(60, 64, 67, 0.3), 0px 1px 3px 1px rgba(60, 64, 67, 0.15);\n",
              "      fill: #174EA6;\n",
              "    }\n",
              "\n",
              "    [theme=dark] .colab-df-convert {\n",
              "      background-color: #3B4455;\n",
              "      fill: #D2E3FC;\n",
              "    }\n",
              "\n",
              "    [theme=dark] .colab-df-convert:hover {\n",
              "      background-color: #434B5C;\n",
              "      box-shadow: 0px 1px 3px 1px rgba(0, 0, 0, 0.15);\n",
              "      filter: drop-shadow(0px 1px 2px rgba(0, 0, 0, 0.3));\n",
              "      fill: #FFFFFF;\n",
              "    }\n",
              "  </style>\n",
              "\n",
              "      <script>\n",
              "        const buttonEl =\n",
              "          document.querySelector('#df-c2fb0563-a3d3-4360-b6d5-ac7ce551dcf4 button.colab-df-convert');\n",
              "        buttonEl.style.display =\n",
              "          google.colab.kernel.accessAllowed ? 'block' : 'none';\n",
              "\n",
              "        async function convertToInteractive(key) {\n",
              "          const element = document.querySelector('#df-c2fb0563-a3d3-4360-b6d5-ac7ce551dcf4');\n",
              "          const dataTable =\n",
              "            await google.colab.kernel.invokeFunction('convertToInteractive',\n",
              "                                                     [key], {});\n",
              "          if (!dataTable) return;\n",
              "\n",
              "          const docLinkHtml = 'Like what you see? Visit the ' +\n",
              "            '<a target=\"_blank\" href=https://colab.research.google.com/notebooks/data_table.ipynb>data table notebook</a>'\n",
              "            + ' to learn more about interactive tables.';\n",
              "          element.innerHTML = '';\n",
              "          dataTable['output_type'] = 'display_data';\n",
              "          await google.colab.output.renderOutput(dataTable, element);\n",
              "          const docLink = document.createElement('div');\n",
              "          docLink.innerHTML = docLinkHtml;\n",
              "          element.appendChild(docLink);\n",
              "        }\n",
              "      </script>\n",
              "    </div>\n",
              "  </div>\n",
              "  "
            ]
          },
          "metadata": {},
          "execution_count": 8
        }
      ]
    },
    {
      "cell_type": "code",
      "source": [
        "df.dtypes"
      ],
      "metadata": {
        "colab": {
          "base_uri": "https://localhost:8080/"
        },
        "id": "yL6tX3cOK3yE",
        "outputId": "6e554ca0-1b17-4ee8-e9db-f902cfd825f7"
      },
      "execution_count": 9,
      "outputs": [
        {
          "output_type": "execute_result",
          "data": {
            "text/plain": [
              "tenure      float64\n",
              "age         float64\n",
              "address     float64\n",
              "income      float64\n",
              "ed          float64\n",
              "employ      float64\n",
              "equip       float64\n",
              "callcard    float64\n",
              "wireless    float64\n",
              "longmon     float64\n",
              "tollmon     float64\n",
              "equipmon    float64\n",
              "cardmon     float64\n",
              "wiremon     float64\n",
              "longten     float64\n",
              "tollten     float64\n",
              "cardten     float64\n",
              "voice       float64\n",
              "pager       float64\n",
              "internet    float64\n",
              "callwait    float64\n",
              "confer      float64\n",
              "ebill       float64\n",
              "loglong     float64\n",
              "logtoll     float64\n",
              "lninc       float64\n",
              "custcat     float64\n",
              "churn       float64\n",
              "dtype: object"
            ]
          },
          "metadata": {},
          "execution_count": 9
        }
      ]
    },
    {
      "cell_type": "code",
      "source": [
        "col_names=df.columns.tolist()"
      ],
      "metadata": {
        "id": "OZl0gQFyLEl3"
      },
      "execution_count": 10,
      "outputs": []
    },
    {
      "cell_type": "code",
      "source": [
        "for i in col_names:\n",
        "  print(df[i].value_counts)"
      ],
      "metadata": {
        "colab": {
          "base_uri": "https://localhost:8080/"
        },
        "id": "RdWzI-K4LMZZ",
        "outputId": "7af92353-5f53-4ddd-f803-ae897ae9e163"
      },
      "execution_count": 11,
      "outputs": [
        {
          "output_type": "stream",
          "name": "stdout",
          "text": [
            "<bound method IndexOpsMixin.value_counts of 0      11.0\n",
            "1      33.0\n",
            "2      23.0\n",
            "3      38.0\n",
            "4       7.0\n",
            "       ... \n",
            "195    55.0\n",
            "196    34.0\n",
            "197     6.0\n",
            "198    24.0\n",
            "199    61.0\n",
            "Name: tenure, Length: 200, dtype: float64>\n",
            "<bound method IndexOpsMixin.value_counts of 0      33.0\n",
            "1      33.0\n",
            "2      30.0\n",
            "3      35.0\n",
            "4      35.0\n",
            "       ... \n",
            "195    44.0\n",
            "196    23.0\n",
            "197    32.0\n",
            "198    30.0\n",
            "199    50.0\n",
            "Name: age, Length: 200, dtype: float64>\n",
            "<bound method IndexOpsMixin.value_counts of 0       7.0\n",
            "1      12.0\n",
            "2       9.0\n",
            "3       5.0\n",
            "4      14.0\n",
            "       ... \n",
            "195    24.0\n",
            "196     3.0\n",
            "197    10.0\n",
            "198     0.0\n",
            "199    16.0\n",
            "Name: address, Length: 200, dtype: float64>\n",
            "<bound method IndexOpsMixin.value_counts of 0      136.0\n",
            "1       33.0\n",
            "2       30.0\n",
            "3       76.0\n",
            "4       80.0\n",
            "       ...  \n",
            "195     83.0\n",
            "196     24.0\n",
            "197     47.0\n",
            "198     25.0\n",
            "199    190.0\n",
            "Name: income, Length: 200, dtype: float64>\n",
            "<bound method IndexOpsMixin.value_counts of 0      5.0\n",
            "1      2.0\n",
            "2      1.0\n",
            "3      2.0\n",
            "4      2.0\n",
            "      ... \n",
            "195    1.0\n",
            "196    1.0\n",
            "197    1.0\n",
            "198    4.0\n",
            "199    2.0\n",
            "Name: ed, Length: 200, dtype: float64>\n",
            "<bound method IndexOpsMixin.value_counts of 0       5.0\n",
            "1       0.0\n",
            "2       2.0\n",
            "3      10.0\n",
            "4      15.0\n",
            "       ... \n",
            "195    23.0\n",
            "196     7.0\n",
            "197    10.0\n",
            "198     5.0\n",
            "199    22.0\n",
            "Name: employ, Length: 200, dtype: float64>\n",
            "<bound method IndexOpsMixin.value_counts of 0      0.0\n",
            "1      0.0\n",
            "2      0.0\n",
            "3      1.0\n",
            "4      0.0\n",
            "      ... \n",
            "195    0.0\n",
            "196    0.0\n",
            "197    0.0\n",
            "198    0.0\n",
            "199    1.0\n",
            "Name: equip, Length: 200, dtype: float64>\n",
            "<bound method IndexOpsMixin.value_counts of 0      1.0\n",
            "1      0.0\n",
            "2      0.0\n",
            "3      1.0\n",
            "4      1.0\n",
            "      ... \n",
            "195    1.0\n",
            "196    1.0\n",
            "197    1.0\n",
            "198    1.0\n",
            "199    1.0\n",
            "Name: callcard, Length: 200, dtype: float64>\n",
            "<bound method IndexOpsMixin.value_counts of 0      1.0\n",
            "1      0.0\n",
            "2      0.0\n",
            "3      1.0\n",
            "4      0.0\n",
            "      ... \n",
            "195    0.0\n",
            "196    0.0\n",
            "197    0.0\n",
            "198    1.0\n",
            "199    1.0\n",
            "Name: wireless, Length: 200, dtype: float64>\n",
            "<bound method IndexOpsMixin.value_counts of 0       4.40\n",
            "1       9.45\n",
            "2       6.30\n",
            "3       6.05\n",
            "4       7.10\n",
            "       ...  \n",
            "195    17.35\n",
            "196     6.00\n",
            "197     3.85\n",
            "198     8.70\n",
            "199    16.85\n",
            "Name: longmon, Length: 200, dtype: float64>\n",
            "<bound method IndexOpsMixin.value_counts of 0      20.75\n",
            "1       0.00\n",
            "2       0.00\n",
            "3      45.00\n",
            "4      22.00\n",
            "       ...  \n",
            "195    24.50\n",
            "196    28.00\n",
            "197    23.75\n",
            "198    47.75\n",
            "199     0.00\n",
            "Name: tollmon, Length: 200, dtype: float64>\n",
            "<bound method IndexOpsMixin.value_counts of 0       0.00\n",
            "1       0.00\n",
            "2       0.00\n",
            "3      50.10\n",
            "4       0.00\n",
            "       ...  \n",
            "195     0.00\n",
            "196     0.00\n",
            "197     0.00\n",
            "198     0.00\n",
            "199    42.55\n",
            "Name: equipmon, Length: 200, dtype: float64>\n",
            "<bound method IndexOpsMixin.value_counts of 0      15.25\n",
            "1       0.00\n",
            "2       0.00\n",
            "3      23.25\n",
            "4      23.75\n",
            "       ...  \n",
            "195    14.25\n",
            "196    12.75\n",
            "197    12.50\n",
            "198    32.75\n",
            "199    26.50\n",
            "Name: cardmon, Length: 200, dtype: float64>\n",
            "<bound method IndexOpsMixin.value_counts of 0      35.7\n",
            "1       0.0\n",
            "2       0.0\n",
            "3      64.9\n",
            "4       0.0\n",
            "       ... \n",
            "195     0.0\n",
            "196     0.0\n",
            "197     0.0\n",
            "198    64.0\n",
            "199    44.1\n",
            "Name: wiremon, Length: 200, dtype: float64>\n",
            "<bound method IndexOpsMixin.value_counts of 0        42.00\n",
            "1       288.80\n",
            "2       157.05\n",
            "3       239.55\n",
            "4        47.45\n",
            "        ...   \n",
            "195     973.10\n",
            "196     203.25\n",
            "197      29.90\n",
            "198     186.60\n",
            "199    1063.15\n",
            "Name: longten, Length: 200, dtype: float64>\n",
            "<bound method IndexOpsMixin.value_counts of 0       211.45\n",
            "1         0.00\n",
            "2         0.00\n",
            "3      1873.05\n",
            "4       166.10\n",
            "        ...   \n",
            "195    1343.50\n",
            "196     959.40\n",
            "197     128.45\n",
            "198    1152.90\n",
            "199       0.00\n",
            "Name: tollten, Length: 200, dtype: float64>\n",
            "<bound method IndexOpsMixin.value_counts of 0       125.0\n",
            "1         0.0\n",
            "2         0.0\n",
            "3       880.0\n",
            "4       145.0\n",
            "        ...  \n",
            "195     720.0\n",
            "196     435.0\n",
            "197      80.0\n",
            "198     780.0\n",
            "199    1600.0\n",
            "Name: cardten, Length: 200, dtype: float64>\n",
            "<bound method IndexOpsMixin.value_counts of 0      1.0\n",
            "1      0.0\n",
            "2      0.0\n",
            "3      1.0\n",
            "4      1.0\n",
            "      ... \n",
            "195    0.0\n",
            "196    0.0\n",
            "197    0.0\n",
            "198    1.0\n",
            "199    0.0\n",
            "Name: voice, Length: 200, dtype: float64>\n",
            "<bound method IndexOpsMixin.value_counts of 0      1.0\n",
            "1      0.0\n",
            "2      0.0\n",
            "3      1.0\n",
            "4      0.0\n",
            "      ... \n",
            "195    0.0\n",
            "196    0.0\n",
            "197    0.0\n",
            "198    1.0\n",
            "199    0.0\n",
            "Name: pager, Length: 200, dtype: float64>\n",
            "<bound method IndexOpsMixin.value_counts of 0      0.0\n",
            "1      0.0\n",
            "2      0.0\n",
            "3      1.0\n",
            "4      0.0\n",
            "      ... \n",
            "195    0.0\n",
            "196    0.0\n",
            "197    0.0\n",
            "198    1.0\n",
            "199    1.0\n",
            "Name: internet, Length: 200, dtype: float64>\n",
            "<bound method IndexOpsMixin.value_counts of 0      1.0\n",
            "1      0.0\n",
            "2      0.0\n",
            "3      1.0\n",
            "4      1.0\n",
            "      ... \n",
            "195    0.0\n",
            "196    1.0\n",
            "197    1.0\n",
            "198    1.0\n",
            "199    0.0\n",
            "Name: callwait, Length: 200, dtype: float64>\n",
            "<bound method IndexOpsMixin.value_counts of 0      1.0\n",
            "1      0.0\n",
            "2      1.0\n",
            "3      1.0\n",
            "4      1.0\n",
            "      ... \n",
            "195    1.0\n",
            "196    1.0\n",
            "197    1.0\n",
            "198    1.0\n",
            "199    0.0\n",
            "Name: confer, Length: 200, dtype: float64>\n",
            "<bound method IndexOpsMixin.value_counts of 0      0.0\n",
            "1      0.0\n",
            "2      0.0\n",
            "3      1.0\n",
            "4      0.0\n",
            "      ... \n",
            "195    0.0\n",
            "196    0.0\n",
            "197    0.0\n",
            "198    1.0\n",
            "199    1.0\n",
            "Name: ebill, Length: 200, dtype: float64>\n",
            "<bound method IndexOpsMixin.value_counts of 0      1.482\n",
            "1      2.246\n",
            "2      1.841\n",
            "3      1.800\n",
            "4      1.960\n",
            "       ...  \n",
            "195    2.854\n",
            "196    1.792\n",
            "197    1.348\n",
            "198    2.163\n",
            "199    2.824\n",
            "Name: loglong, Length: 200, dtype: float64>\n",
            "<bound method IndexOpsMixin.value_counts of 0      3.033\n",
            "1      3.240\n",
            "2      3.240\n",
            "3      3.807\n",
            "4      3.091\n",
            "       ...  \n",
            "195    3.199\n",
            "196    3.332\n",
            "197    3.168\n",
            "198    3.866\n",
            "199    3.240\n",
            "Name: logtoll, Length: 200, dtype: float64>\n",
            "<bound method IndexOpsMixin.value_counts of 0      4.913\n",
            "1      3.497\n",
            "2      3.401\n",
            "3      4.331\n",
            "4      4.382\n",
            "       ...  \n",
            "195    4.419\n",
            "196    3.178\n",
            "197    3.850\n",
            "198    3.219\n",
            "199    5.247\n",
            "Name: lninc, Length: 200, dtype: float64>\n",
            "<bound method IndexOpsMixin.value_counts of 0      4.0\n",
            "1      1.0\n",
            "2      3.0\n",
            "3      4.0\n",
            "4      3.0\n",
            "      ... \n",
            "195    3.0\n",
            "196    3.0\n",
            "197    3.0\n",
            "198    4.0\n",
            "199    2.0\n",
            "Name: custcat, Length: 200, dtype: float64>\n",
            "<bound method IndexOpsMixin.value_counts of 0      1.0\n",
            "1      1.0\n",
            "2      0.0\n",
            "3      0.0\n",
            "4      0.0\n",
            "      ... \n",
            "195    0.0\n",
            "196    0.0\n",
            "197    0.0\n",
            "198    1.0\n",
            "199    0.0\n",
            "Name: churn, Length: 200, dtype: float64>\n"
          ]
        }
      ]
    },
    {
      "cell_type": "code",
      "source": [
        "# no categorical data present"
      ],
      "metadata": {
        "id": "8wKgmiqwLUMP"
      },
      "execution_count": 12,
      "outputs": []
    },
    {
      "cell_type": "code",
      "source": [
        "df.info()"
      ],
      "metadata": {
        "colab": {
          "base_uri": "https://localhost:8080/"
        },
        "id": "-XzE_GrYLhxm",
        "outputId": "b27a1714-2268-4569-bd2e-12d4514ff79b"
      },
      "execution_count": 13,
      "outputs": [
        {
          "output_type": "stream",
          "name": "stdout",
          "text": [
            "<class 'pandas.core.frame.DataFrame'>\n",
            "RangeIndex: 200 entries, 0 to 199\n",
            "Data columns (total 28 columns):\n",
            " #   Column    Non-Null Count  Dtype  \n",
            "---  ------    --------------  -----  \n",
            " 0   tenure    200 non-null    float64\n",
            " 1   age       200 non-null    float64\n",
            " 2   address   200 non-null    float64\n",
            " 3   income    200 non-null    float64\n",
            " 4   ed        200 non-null    float64\n",
            " 5   employ    200 non-null    float64\n",
            " 6   equip     200 non-null    float64\n",
            " 7   callcard  200 non-null    float64\n",
            " 8   wireless  200 non-null    float64\n",
            " 9   longmon   200 non-null    float64\n",
            " 10  tollmon   200 non-null    float64\n",
            " 11  equipmon  200 non-null    float64\n",
            " 12  cardmon   200 non-null    float64\n",
            " 13  wiremon   200 non-null    float64\n",
            " 14  longten   200 non-null    float64\n",
            " 15  tollten   200 non-null    float64\n",
            " 16  cardten   200 non-null    float64\n",
            " 17  voice     200 non-null    float64\n",
            " 18  pager     200 non-null    float64\n",
            " 19  internet  200 non-null    float64\n",
            " 20  callwait  200 non-null    float64\n",
            " 21  confer    200 non-null    float64\n",
            " 22  ebill     200 non-null    float64\n",
            " 23  loglong   200 non-null    float64\n",
            " 24  logtoll   200 non-null    float64\n",
            " 25  lninc     200 non-null    float64\n",
            " 26  custcat   200 non-null    float64\n",
            " 27  churn     200 non-null    float64\n",
            "dtypes: float64(28)\n",
            "memory usage: 43.9 KB\n"
          ]
        }
      ]
    },
    {
      "cell_type": "code",
      "source": [
        "df.skew()"
      ],
      "metadata": {
        "colab": {
          "base_uri": "https://localhost:8080/"
        },
        "id": "FcKkyyVnLitn",
        "outputId": "5971e615-5229-4cd4-80ef-abacc73bf5ae"
      },
      "execution_count": 14,
      "outputs": [
        {
          "output_type": "execute_result",
          "data": {
            "text/plain": [
              "tenure      0.147202\n",
              "age         0.479416\n",
              "address     0.994077\n",
              "income      9.963441\n",
              "ed          0.001747\n",
              "employ      0.970133\n",
              "equip       0.305731\n",
              "callcard   -0.905847\n",
              "wireless    0.932604\n",
              "longmon     2.157840\n",
              "tollmon     0.935229\n",
              "equipmon    0.675317\n",
              "cardmon     1.957281\n",
              "wiremon     1.783587\n",
              "longten     2.236321\n",
              "tollten     2.157179\n",
              "cardten     3.137279\n",
              "voice       0.905847\n",
              "pager       1.015438\n",
              "internet    0.243578\n",
              "callwait    0.182102\n",
              "confer      0.161730\n",
              "ebill       0.243578\n",
              "loglong     0.188933\n",
              "logtoll    -0.494316\n",
              "lninc       0.735056\n",
              "custcat     0.077257\n",
              "churn       0.932604\n",
              "dtype: float64"
            ]
          },
          "metadata": {},
          "execution_count": 14
        }
      ]
    },
    {
      "cell_type": "code",
      "source": [
        "corr = df.corr()\n",
        "\n",
        "kot = corr[corr>=.90]\n",
        "plt.figure(figsize=(12,8))\n",
        "sns.heatmap(kot, cmap=\"Greens\")"
      ],
      "metadata": {
        "colab": {
          "base_uri": "https://localhost:8080/",
          "height": 545
        },
        "id": "b8966ITGLn_j",
        "outputId": "7dbff9ad-6790-4aa5-da01-cddcb9c39ca6"
      },
      "execution_count": 18,
      "outputs": [
        {
          "output_type": "execute_result",
          "data": {
            "text/plain": [
              "<matplotlib.axes._subplots.AxesSubplot at 0x7f0b49da5210>"
            ]
          },
          "metadata": {},
          "execution_count": 18
        },
        {
          "output_type": "display_data",
          "data": {
            "text/plain": [
              "<Figure size 864x576 with 2 Axes>"
            ],
            "image/png": "[encoded data removed]"
          },
          "metadata": {
            "needs_background": "light"
          }
        }
      ]
    },
    {
      "cell_type": "code",
      "source": [
        "#longten and tollmon are correlated"
      ],
      "metadata": {
        "id": "5zYkNF4-L987"
      },
      "execution_count": 19,
      "outputs": []
    },
    {
      "cell_type": "code",
      "source": [
        "df.columns"
      ],
      "metadata": {
        "colab": {
          "base_uri": "https://localhost:8080/"
        },
        "id": "72y_R4qiMyGC",
        "outputId": "b0835d28-0f8a-4727-8f04-6ea72ce321a9"
      },
      "execution_count": 20,
      "outputs": [
        {
          "output_type": "execute_result",
          "data": {
            "text/plain": [
              "Index(['tenure', 'age', 'address', 'income', 'ed', 'employ', 'equip',\n",
              "       'callcard', 'wireless', 'longmon', 'tollmon', 'equipmon', 'cardmon',\n",
              "       'wiremon', 'longten', 'tollten', 'cardten', 'voice', 'pager',\n",
              "       'internet', 'callwait', 'confer', 'ebill', 'loglong', 'logtoll',\n",
              "       'lninc', 'custcat', 'churn'],\n",
              "      dtype='object')"
            ]
          },
          "metadata": {},
          "execution_count": 20
        }
      ]
    },
    {
      "cell_type": "code",
      "source": [
        "df.drop(columns=['longten','tollten'],inplace=True)"
      ],
      "metadata": {
        "id": "lqFZ0NjqMm2a"
      },
      "execution_count": 23,
      "outputs": []
    },
    {
      "cell_type": "code",
      "source": [
        "df.columns"
      ],
      "metadata": {
        "colab": {
          "base_uri": "https://localhost:8080/"
        },
        "id": "qbyATp2gM_9d",
        "outputId": "d798a5bd-bf35-45c1-e644-2dcbd705f7dc"
      },
      "execution_count": 24,
      "outputs": [
        {
          "output_type": "execute_result",
          "data": {
            "text/plain": [
              "Index(['tenure', 'age', 'address', 'income', 'ed', 'employ', 'equip',\n",
              "       'callcard', 'wireless', 'longmon', 'tollmon', 'equipmon', 'cardmon',\n",
              "       'wiremon', 'cardten', 'voice', 'pager', 'internet', 'callwait',\n",
              "       'confer', 'ebill', 'loglong', 'logtoll', 'lninc', 'custcat', 'churn'],\n",
              "      dtype='object')"
            ]
          },
          "metadata": {},
          "execution_count": 24
        }
      ]
    },
    {
      "cell_type": "code",
      "source": [
        "#split dataset in features and target variable \n",
        "\n",
        "\n",
        "X = df[['tenure', 'age', 'address', 'income', 'ed', 'employ', 'equip',\n",
        "       'callcard', 'wireless', 'longmon', 'tollmon', 'equipmon', 'cardmon',\n",
        "       'wiremon', 'cardten', 'voice', 'pager', 'internet', 'callwait',\n",
        "       'confer', 'ebill', 'loglong', 'logtoll', 'lninc', 'custcat']]    # Features \n",
        "\n",
        "y = df['churn'] # Target variable "
      ],
      "metadata": {
        "id": "nsV6Ox4iNRQn"
      },
      "execution_count": 27,
      "outputs": []
    },
    {
      "cell_type": "code",
      "source": [
        "X_train,X_test,y_train,y_test=train_test_split(X,y,test_size=0.25,random_state=0) \n"
      ],
      "metadata": {
        "id": "6inRctdeOZg_"
      },
      "execution_count": 28,
      "outputs": []
    },
    {
      "cell_type": "code",
      "source": [
        "# instantiate the model \n",
        "\n",
        "logreg =  LogisticRegression(solver='liblinear') \n",
        "\n",
        "\n",
        "\n",
        "# fit the model with data \n",
        "\n",
        "logreg.fit(X_train,y_train)\n",
        "# fit the model with data \n",
        "\n",
        "logreg.fit(X_train,y_train) \n",
        "\n",
        "\n",
        "\n",
        "# predicting \n",
        "\n",
        "y_pred=logreg.predict(X_test) \n",
        "\n",
        "y_pred \n"
      ],
      "metadata": {
        "colab": {
          "base_uri": "https://localhost:8080/"
        },
        "id": "OVg3dTf2OvQi",
        "outputId": "0360f23b-40c5-4576-90e7-0151bb37f1a7"
      },
      "execution_count": 51,
      "outputs": [
        {
          "output_type": "execute_result",
          "data": {
            "text/plain": [
              "array([0., 1., 1., 0., 0., 0., 0., 0., 0., 1., 0., 0., 0., 0., 0., 0., 1.,\n",
              "       0., 0., 0., 0., 0., 0., 0., 0., 1., 0., 1., 1., 0., 1., 1., 0., 0.,\n",
              "       1., 0., 0., 0., 0., 0., 1., 0., 0., 1., 0., 0., 0., 0., 0., 0.])"
            ]
          },
          "metadata": {},
          "execution_count": 51
        }
      ]
    },
    {
      "cell_type": "code",
      "source": [
        "from sklearn.metrics import confusion_matrix\n",
        "\n",
        "\n",
        "cnf_matrix = confusion_matrix(y_test, y_pred) \n"
      ],
      "metadata": {
        "id": "GVX6FpfAcm9Z"
      },
      "execution_count": 52,
      "outputs": []
    },
    {
      "cell_type": "code",
      "source": [
        "from sklearn.metrics import *\n",
        "\n",
        "print(\"Accuracy:\",accuracy_score(y_test, y_pred)) \n",
        "\n",
        "print(\"Precision:\",precision_score(y_test, y_pred)) \n",
        "\n",
        "print(\"Recall:\",recall_score(y_test, y_pred)) \n"
      ],
      "metadata": {
        "colab": {
          "base_uri": "https://localhost:8080/"
        },
        "id": "852pV4g8cmub",
        "outputId": "6c47cc0a-775c-4b54-ddff-d8c1c14e6101"
      },
      "execution_count": 53,
      "outputs": [
        {
          "output_type": "stream",
          "name": "stdout",
          "text": [
            "Accuracy: 0.84\n",
            "Precision: 0.6666666666666666\n",
            "Recall: 0.6666666666666666\n"
          ]
        }
      ]
    },
    {
      "cell_type": "code",
      "source": [
        "# instantiate the model \n",
        "\n",
        "logreg =  LogisticRegression(solver='liblinear',penalty='l1') \n",
        "\n",
        "\n",
        "\n",
        "# fit the model with data \n",
        "\n",
        "logreg.fit(X_train,y_train)\n",
        "# fit the model with data \n",
        "\n",
        "logreg.fit(X_train,y_train) \n",
        "\n",
        "\n",
        "\n",
        "# predicting \n",
        "\n",
        "y_pred=logreg.predict(X_test) \n",
        "\n",
        "y_pred \n"
      ],
      "metadata": {
        "colab": {
          "base_uri": "https://localhost:8080/"
        },
        "id": "y7_KdggYcRUF",
        "outputId": "d9f8c69e-4576-4dc3-e30f-5465e16de5f8"
      },
      "execution_count": 48,
      "outputs": [
        {
          "output_type": "execute_result",
          "data": {
            "text/plain": [
              "array([0., 1., 1., 0., 0., 0., 0., 0., 0., 1., 0., 0., 0., 0., 0., 0., 1.,\n",
              "       0., 0., 0., 0., 0., 0., 1., 0., 1., 0., 1., 1., 0., 1., 1., 0., 0.,\n",
              "       1., 0., 0., 0., 0., 0., 1., 0., 0., 1., 0., 0., 0., 0., 0., 0.])"
            ]
          },
          "metadata": {},
          "execution_count": 48
        }
      ]
    },
    {
      "cell_type": "code",
      "source": [
        "from sklearn.metrics import confusion_matrix\n",
        "\n",
        "\n",
        "cnf_matrix = confusion_matrix(y_test, y_pred) \n"
      ],
      "metadata": {
        "id": "51J8IBJpOymB"
      },
      "execution_count": 49,
      "outputs": []
    },
    {
      "cell_type": "code",
      "source": [
        "from sklearn.metrics import *\n",
        "\n",
        "print(\"Accuracy:\",accuracy_score(y_test, y_pred)) \n",
        "\n",
        "print(\"Precision:\",precision_score(y_test, y_pred)) \n",
        "\n",
        "print(\"Recall:\",recall_score(y_test, y_pred)) \n"
      ],
      "metadata": {
        "colab": {
          "base_uri": "https://localhost:8080/"
        },
        "id": "i4NsjKw2Pfyv",
        "outputId": "8a7b8ccc-6f19-42f2-a5ae-0281ce2b3a59"
      },
      "execution_count": 50,
      "outputs": [
        {
          "output_type": "stream",
          "name": "stdout",
          "text": [
            "Accuracy: 0.86\n",
            "Precision: 0.6923076923076923\n",
            "Recall: 0.75\n"
          ]
        }
      ]
    },
    {
      "cell_type": "code",
      "source": [
        "# instantiate the model \n",
        "\n",
        "logreg =  LogisticRegression(solver='liblinear',penalty='l1') \n",
        "\n",
        "\n",
        "\n",
        "# fit the model with data \n",
        "\n",
        "logreg.fit(X_train,y_train)\n",
        "# fit the model with data \n",
        "\n",
        "logreg.fit(X_train,y_train) \n",
        "\n",
        "\n",
        "\n",
        "# predicting \n",
        "\n",
        "y_pred=logreg.predict(X_test) \n",
        "\n",
        "y_pred \n"
      ],
      "metadata": {
        "id": "Re8N-znDcx3C"
      },
      "execution_count": null,
      "outputs": []
    },
    {
      "cell_type": "code",
      "source": [
        "x_train,x_test,y_train,y_test=train_test_split(X,y,test_size=0.25,random_state=0) \n"
      ],
      "metadata": {
        "id": "q61-mge4Qwaf"
      },
      "execution_count": 44,
      "outputs": []
    },
    {
      "cell_type": "code",
      "source": [
        "# Grid search cross validation\n",
        "from sklearn.model_selection import GridSearchCV\n",
        "from sklearn.linear_model import LogisticRegression\n",
        "grid={\"C\":np.logspace(-3,3,7), \"penalty\":[\"l1\",\"l2\"]}# l1 lasso l2 ridge\n",
        "logreg=LogisticRegression(solver='liblinear',class_weight='balanced', max_iter=10000)\n",
        "logreg_cv=GridSearchCV(logreg,grid)\n",
        "logreg_cv.fit(x_train,y_train)\n",
        "\n",
        "print(\"tuned hpyerparameters :(best parameters) \",logreg_cv.best_params_)\n",
        "print(\"accuracy :\",logreg_cv.best_score_)"
      ],
      "metadata": {
        "colab": {
          "base_uri": "https://localhost:8080/"
        },
        "id": "eCbaUbyBP3G-",
        "outputId": "aac90190-c27c-4a23-993d-652c53896682"
      },
      "execution_count": 55,
      "outputs": [
        {
          "output_type": "stream",
          "name": "stdout",
          "text": [
            "tuned hpyerparameters :(best parameters)  {'C': 0.01, 'penalty': 'l1'}\n",
            "accuracy : 0.6933333333333334\n"
          ]
        }
      ]
    },
    {
      "cell_type": "code",
      "source": [],
      "metadata": {
        "id": "UmpbPp2oQpL8"
      },
      "execution_count": null,
      "outputs": []
    }
  ]
}